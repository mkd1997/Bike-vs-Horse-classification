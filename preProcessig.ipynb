{
 "cells": [
  {
   "cell_type": "code",
   "execution_count": 17,
   "metadata": {},
   "outputs": [],
   "source": [
    "from os import listdir, makedirs\n",
    "from os.path import isfile, join, exists, isdir\n",
    "import cv2"
   ]
  },
  {
   "cell_type": "code",
   "execution_count": 18,
   "metadata": {},
   "outputs": [],
   "source": [
    "datasetPath = './Dataset'\n",
    "newPath = './newData'\n",
    "height = 180\n",
    "width = 275"
   ]
  },
  {
   "cell_type": "code",
   "execution_count": 19,
   "metadata": {},
   "outputs": [],
   "source": [
    "if not exists(newPath):\n",
    "    makedirs(newPath)"
   ]
  },
  {
   "cell_type": "code",
   "execution_count": 20,
   "metadata": {},
   "outputs": [],
   "source": [
    "onlyDirs = [f for f in listdir(datasetPath) if isdir(join(datasetPath, f))]\n",
    "\n",
    "for directory in onlyDirs:\n",
    "    rdPath = datasetPath+'/'+directory\n",
    "    path = newPath+'/'+directory\n",
    "    if not exists(path):\n",
    "        makedirs(path)\n",
    "        \n",
    "    onlyfiles = [f for f in listdir(rdPath) if isfile(join(rdPath, f))]\n",
    "    i=0\n",
    "    for file in onlyfiles:\n",
    "        i = i + 1\n",
    "        imgPath = rdPath+'/'+file\n",
    "        img = cv2.imread(imgPath)\n",
    "        img = cv2.resize(img,(width,height))\n",
    "        wrtPath = path+'/' + str(i) + '.jpg'\n",
    "        cv2.imwrite(wrtPath,img)"
   ]
  }
 ],
 "metadata": {
  "kernelspec": {
   "display_name": "Python 3",
   "language": "python",
   "name": "python3"
  },
  "language_info": {
   "codemirror_mode": {
    "name": "ipython",
    "version": 3
   },
   "file_extension": ".py",
   "mimetype": "text/x-python",
   "name": "python",
   "nbconvert_exporter": "python",
   "pygments_lexer": "ipython3",
   "version": "3.5.5"
  }
 },
 "nbformat": 4,
 "nbformat_minor": 2
}
