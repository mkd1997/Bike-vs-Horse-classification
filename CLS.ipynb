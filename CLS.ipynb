{
 "cells": [
  {
   "cell_type": "code",
   "execution_count": 339,
   "metadata": {},
   "outputs": [],
   "source": [
    "import cv2\n",
    "import os\n",
    "import numpy as np\n",
    "from sklearn.cluster import KMeans\n",
    "from sklearn import svm\n",
    "from sklearn.model_selection import train_test_split\n",
    "import pickle"
   ]
  },
  {
   "cell_type": "code",
   "execution_count": 340,
   "metadata": {},
   "outputs": [],
   "source": [
    "rdir_path = './newData'\n",
    "nClusters = 512\n",
    "vocabFile = 'vocab_512.sav'\n",
    "clsFile = 'cls.sav'\n",
    "svm_c = 0.005\n",
    "svm_gamma = 0.1\n",
    "svm_kernal = 'linear'\n",
    "\n",
    "splitProp = 0.8"
   ]
  },
  {
   "cell_type": "code",
   "execution_count": 341,
   "metadata": {},
   "outputs": [],
   "source": [
    "def loadDataset():\n",
    "    imgs = []\n",
    "    labels = []\n",
    "    label = -1\n",
    "    \n",
    "    onlyDirs = [f for f in os.listdir(rdir_path) if os.path.isdir(os.path.join(rdir_path, f))]\n",
    "    \n",
    "    for directory in onlyDirs:\n",
    "        label = label + 1\n",
    "        path = rdir_path+'/'+directory\n",
    "        onlyfiles = [f for f in os.listdir(path) if os.path.isfile(os.path.join(path, f))]\n",
    "        \n",
    "        for file in onlyfiles:\n",
    "            imgPath = path+'/'+file\n",
    "            imgs.append(imgPath)\n",
    "            labels.append(label)\n",
    "    \n",
    "    return (imgs,labels)"
   ]
  },
  {
   "cell_type": "code",
   "execution_count": 342,
   "metadata": {},
   "outputs": [],
   "source": [
    "def getDescriptors(img, extractor):\n",
    "    gray = cv2.cvtColor(img,cv2.COLOR_RGB2GRAY)\n",
    "    keypoints, descriptors = extractor.detectAndCompute(gray, None)\n",
    "    return descriptors"
   ]
  },
  {
   "cell_type": "code",
   "execution_count": 343,
   "metadata": {},
   "outputs": [],
   "source": [
    "def getBatchDesc(imgs):\n",
    "    descriptors = np.asarray([])\n",
    "    extractor = cv2.xfeatures2d.SIFT_create()\n",
    "    #i = 0\n",
    "    for img in imgs:\n",
    "        desc = getDescriptors(img,extractor)\n",
    "        if type(desc) == np.ndarray :\n",
    "            if descriptors.shape[0] == 0:\n",
    "                descriptors = desc\n",
    "            else:\n",
    "                descriptors = np.concatenate((descriptors, desc), axis=0)\n",
    "    return descriptors"
   ]
  },
  {
   "cell_type": "code",
   "execution_count": 344,
   "metadata": {},
   "outputs": [],
   "source": [
    "def getImgs(imgsPath):\n",
    "    imgs = []\n",
    "    for imgName in imgsPath:\n",
    "        img = cv2.imread(imgName)\n",
    "        imgs.append(img)\n",
    "    imgs = np.asarray(imgs)\n",
    "    return imgs"
   ]
  },
  {
   "cell_type": "code",
   "execution_count": 345,
   "metadata": {},
   "outputs": [],
   "source": [
    "def getVocabularies(imgs):\n",
    "    print(\"collecting descriptors...\")\n",
    "    descriptors = getBatchDesc(imgs)\n",
    "    print(\"vector quantization started...\")\n",
    "    kmeans = KMeans(n_clusters = nClusters)\n",
    "    kmeans.fit(descriptors)\n",
    "    return kmeans"
   ]
  },
  {
   "cell_type": "code",
   "execution_count": 346,
   "metadata": {},
   "outputs": [],
   "source": [
    "def getBagOfKP(img,extractor,vocab):\n",
    "    bok = [0]*nClusters\n",
    "    gray = cv2.cvtColor(img,cv2.COLOR_RGB2GRAY)\n",
    "    keypoints, descriptors = extractor.detectAndCompute(gray, None)\n",
    "    if type(descriptors) == np.ndarray:\n",
    "        pred = vocab.predict(descriptors)\n",
    "        for ele in pred:\n",
    "            bok[ele] = bok[ele] + 1\n",
    "    return bok"
   ]
  },
  {
   "cell_type": "code",
   "execution_count": 347,
   "metadata": {},
   "outputs": [],
   "source": [
    "def getBatchBOK(imgs,vocab):\n",
    "    batchBOK = []\n",
    "    extractor = cv2.xfeatures2d.SIFT_create()\n",
    "    for img in imgs:\n",
    "        bok = getBagOfKP(img,extractor,vocab)\n",
    "        batchBOK.append(bok)\n",
    "    return  np.asarray(batchBOK)"
   ]
  },
  {
   "cell_type": "code",
   "execution_count": 348,
   "metadata": {},
   "outputs": [
    {
     "name": "stderr",
     "output_type": "stream",
     "text": [
      "C:\\Users\\vatsa\\AppData\\Local\\conda\\conda\\envs\\tensorflow151gpu\\lib\\site-packages\\sklearn\\model_selection\\_split.py:2026: FutureWarning: From version 0.21, test_size will always complement train_size unless both are specified.\n",
      "  FutureWarning)\n"
     ]
    }
   ],
   "source": [
    "dataset = loadDataset()\n",
    "trainImgPaths,testImgPaths, trainLabels, testLabels = train_test_split(dataset[0], dataset[1], \n",
    "                                                train_size=splitProp, random_state=42,shuffle = True,stratify = dataset[1])"
   ]
  },
  {
   "cell_type": "code",
   "execution_count": 349,
   "metadata": {},
   "outputs": [],
   "source": [
    "trainImgs = getImgs(trainImgPaths)\n",
    "vocab = getVocabularies(trainImgs)\n",
    "pickle.dump(vocab, open(vocabFile, 'wb'))\n",
    "#vocab = pickle.load(open(vocabFile, 'rb'))"
   ]
  },
  {
   "cell_type": "code",
   "execution_count": 350,
   "metadata": {},
   "outputs": [],
   "source": [
    "features = getBatchBOK(trainImgs,vocab)"
   ]
  },
  {
   "cell_type": "code",
   "execution_count": 351,
   "metadata": {},
   "outputs": [
    {
     "name": "stdout",
     "output_type": "stream",
     "text": [
      "training started...\n"
     ]
    }
   ],
   "source": [
    "#model = svm.SVC(C=svm_c,kernel=svm_kernal,gamma=svm_gamma)\n",
    "model = svm.SVC(C=svm_c,kernel=svm_kernal)\n",
    "print(\"training started...\")\n",
    "model.fit(features,trainLabels)\n",
    "pickle.dump(model, open(clsFile, 'wb'))"
   ]
  },
  {
   "cell_type": "code",
   "execution_count": 352,
   "metadata": {},
   "outputs": [],
   "source": [
    "testImgs = getImgs(testImgPaths)\n",
    "features = getBatchBOK(testImgs,vocab)"
   ]
  },
  {
   "cell_type": "code",
   "execution_count": 353,
   "metadata": {},
   "outputs": [],
   "source": [
    "acc = model.score(features,testLabels)"
   ]
  },
  {
   "cell_type": "code",
   "execution_count": 354,
   "metadata": {},
   "outputs": [
    {
     "name": "stdout",
     "output_type": "stream",
     "text": [
      "0.9722222222222222\n"
     ]
    }
   ],
   "source": [
    "print(acc)"
   ]
  },
  {
   "cell_type": "code",
   "execution_count": null,
   "metadata": {},
   "outputs": [],
   "source": []
  }
 ],
 "metadata": {
  "kernelspec": {
   "display_name": "Python 3",
   "language": "python",
   "name": "python3"
  },
  "language_info": {
   "codemirror_mode": {
    "name": "ipython",
    "version": 3
   },
   "file_extension": ".py",
   "mimetype": "text/x-python",
   "name": "python",
   "nbconvert_exporter": "python",
   "pygments_lexer": "ipython3",
   "version": "3.5.5"
  }
 },
 "nbformat": 4,
 "nbformat_minor": 2
}
